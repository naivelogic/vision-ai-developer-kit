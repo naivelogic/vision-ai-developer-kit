{
 "cells": [
  {
   "cell_type": "markdown",
   "metadata": {},
   "source": [
    "Copyright (c) Microsoft Corporation. All rights reserved.\n",
    "\n",
    "Licensed under the MIT License."
   ]
  },
  {
   "cell_type": "markdown",
   "metadata": {},
   "source": [
    "# Custom Vision Service Model\n",
    "* Create Workspace\n",
    "* Register Demo model\n",
    "* Build Image \n",
    "* Create Hub and Prepare for device and deploy\n",
    "* Deploy Model"
   ]
  },
  {
   "cell_type": "code",
   "execution_count": null,
   "metadata": {
    "scrolled": true
   },
   "outputs": [],
   "source": [
    "# For prod\n",
    "!pip install azureml-core\n",
    "!pip install azureml-contrib-iot --user\n",
    "!pip install azure-mgmt-containerregistry   "
   ]
  },
  {
   "cell_type": "code",
   "execution_count": null,
   "metadata": {},
   "outputs": [],
   "source": [
    "import os\n",
    "print(os.__file__)"
   ]
  },
  {
   "cell_type": "code",
   "execution_count": null,
   "metadata": {},
   "outputs": [],
   "source": [
    "# Check core SDK version number\n",
    "import azureml.core as azcore\n",
    "\n",
    "print(\"SDK version:\", azcore.VERSION)"
   ]
  },
  {
   "cell_type": "markdown",
   "metadata": {},
   "source": [
    "### Create a Workspace\n",
    "#### Change this cell from markdown to code and run this if you need to create a workspace \n",
    "#### Update the values for your workspace below\n",
    "ws=Workspace.create(subscription_id=\"replace-with-subscription-id\",\n",
    "                resource_group=\"your-resource-group\",\n",
    "                name=\"your-workspace-name\",\n",
    "                location=\"eastus2\")\n",
    "                \n",
    "ws.write_config()"
   ]
  },
  {
   "cell_type": "code",
   "execution_count": null,
   "metadata": {},
   "outputs": [],
   "source": [
    "#Initialize Workspace \n",
    "from azureml.core import Workspace\n",
    "\n",
    "ws = Workspace.from_config()\n",
    "print(ws.name, ws.resource_group, ws.location, ws.subscription_id, sep = '\\n')"
   ]
  },
  {
   "cell_type": "markdown",
   "metadata": {},
   "source": [
    "### Register model\n",
    "Download the model files from customvision.ai."
   ]
  },
  {
   "cell_type": "code",
   "execution_count": null,
   "metadata": {},
   "outputs": [],
   "source": [
    "from azureml.core.model import Model\n",
    "\n",
    "model = Model.register(model_path = \"models/squeezenet-forks/orig/\",\n",
    "                      model_name = \"forks_scissors\",\n",
    "                      tags = {\"data\": \"customvision\", \"model\": \"object_detection\", \"type\": \"squeezenet\"},\n",
    "                      description = \"Retrained forks and scissors based on Squeezenet\",\n",
    "                      workspace = ws)\n",
    "print(model.name, model.url, model.version, model.id, model.created_time)"
   ]
  },
  {
   "cell_type": "code",
   "execution_count": null,
   "metadata": {},
   "outputs": [],
   "source": [
    "from azureml.contrib.iot.model_converters import SnpeConverter\n",
    "\n",
    "# submit a compile request\n",
    "compile_request = SnpeConverter.convert_caffe_model(\n",
    "    ws,\n",
    "    source_model=model,\n",
    "    mirror_content = True)\n",
    "print(compile_request._operation_id)"
   ]
  },
  {
   "cell_type": "code",
   "execution_count": null,
   "metadata": {
    "scrolled": true
   },
   "outputs": [],
   "source": [
    "# wait for the request to complete\n",
    "compile_request.wait_for_completion(show_output=True)"
   ]
  },
  {
   "cell_type": "code",
   "execution_count": null,
   "metadata": {},
   "outputs": [],
   "source": [
    "# Get converted model\n",
    "converted_model = compile_request.result\n",
    "print(converted_model.name, converted_model.url, converted_model.version, converted_model.id, converted_model.created_time)"
   ]
  },
  {
   "cell_type": "code",
   "execution_count": null,
   "metadata": {},
   "outputs": [],
   "source": [
    "from azureml.core.image import Image\n",
    "from azureml.contrib.iot import IotContainerImage\n",
    "print ('We will create an image for you now ...')\n",
    "image_config = IotContainerImage.image_configuration(\n",
    "                                 architecture=\"arm32v7\",\n",
    "                                 execution_script=\"main.py\", \n",
    "                                 dependencies=[\"camera.py\",\"iot.py\",\"ipcprovider.py\",\"utility.py\", \"frame_iterators.py\"],\n",
    "                                 docker_file=\"Dockerfile\", \n",
    "                                 tags = [\"squeezenet\"],\n",
    "                                 description = \"Squeezenet model from customvision.ai\")\n",
    "image = Image.create(name = \"forksscissors\",\n",
    "                     # this is the model object \n",
    "                     models = [converted_model],\n",
    "                     image_config = image_config, \n",
    "                     workspace = ws)\n",
    "image.wait_for_creation(show_output = True)"
   ]
  },
  {
   "cell_type": "code",
   "execution_count": null,
   "metadata": {},
   "outputs": [],
   "source": [
    "# Parameter list\n",
    "\n",
    "# Pick a name for what you want to call the module you deploy to the camera\n",
    "module_name = \"visionsample\"\n",
    "\n",
    "# Resource group in Azure \n",
    "resource_group_name= ws.resource_group\n",
    "iot_rg=\"vaidk_\"+resource_group_name\n",
    "\n",
    "# Azure region where your services will be provisioned\n",
    "iot_location=\"eastus2\"\n",
    "\n",
    "# Azure IoT Hub name\n",
    "iot_hub_name=\"iothub-\"+ ws.get_details()[\"name\"]\n",
    "\n",
    "# Pick a name for your camera\n",
    "iot_device_id=\"vadik_\"+ ws.get_details()[\"name\"]\n",
    "\n",
    "# Pick a name for the deployment configuration\n",
    "iot_deployment_id=\"demovaidk\""
   ]
  },
  {
   "cell_type": "code",
   "execution_count": null,
   "metadata": {},
   "outputs": [],
   "source": [
    "# Getting your container details\n",
    "container_reg = ws.get_details()[\"containerRegistry\"]\n",
    "reg_name=container_reg.split(\"/\")[-1]\n",
    "container_url = \"\\\"\" + image.image_location + \"\\\",\"\n",
    "subscription_id = ws.subscription_id\n",
    "print('{}'.format(image.image_location))\n",
    "print('{}'.format(reg_name))\n",
    "print('{}'.format(subscription_id))\n",
    "from azure.mgmt.containerregistry import ContainerRegistryManagementClient\n",
    "from azure.mgmt import containerregistry\n",
    "client = ContainerRegistryManagementClient(ws._auth,subscription_id)\n",
    "result= client.registries.list_credentials(resource_group_name, reg_name, custom_headers=None, raw=False)\n",
    "username = result.username\n",
    "password = result.passwords[0].value"
   ]
  },
  {
   "cell_type": "markdown",
   "metadata": {},
   "source": [
    "### Deployment file\n",
    "This is the deployment.json file that you will use to deploy your model.  Please see the other sample notebooks on using this file to deploy the new model you created."
   ]
  },
  {
   "cell_type": "code",
   "execution_count": null,
   "metadata": {},
   "outputs": [],
   "source": [
    "file = open('./deployment-template.json')\n",
    "contents = file.read()\n",
    "contents = contents.replace('__MODULE_NAME', module_name)\n",
    "contents = contents.replace('__REGISTRY_NAME', reg_name)\n",
    "contents = contents.replace('__REGISTRY_USER_NAME', username)\n",
    "contents = contents.replace('__REGISTRY_PASSWORD', password)\n",
    "contents = contents.replace('__REGISTRY_IMAGE_LOCATION', image.image_location)\n",
    "with open('./deployment.json', 'wt', encoding='utf-8') as output_file:\n",
    "    output_file.write(contents)"
   ]
  },
  {
   "cell_type": "code",
   "execution_count": null,
   "metadata": {},
   "outputs": [],
   "source": []
  }
 ],
 "metadata": {
  "kernelspec": {
   "display_name": "Python 3",
   "language": "python",
   "name": "python3"
  },
  "language_info": {
   "codemirror_mode": {
    "name": "ipython",
    "version": 3
   },
   "file_extension": ".py",
   "mimetype": "text/x-python",
   "name": "python",
   "nbconvert_exporter": "python",
   "pygments_lexer": "ipython3",
   "version": "3.7.3"
  }
 },
 "nbformat": 4,
 "nbformat_minor": 2
}
